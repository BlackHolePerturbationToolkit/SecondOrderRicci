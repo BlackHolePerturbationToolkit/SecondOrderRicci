{
 "metadata": {
  "name": "",
  "signature": "sha256:1fce1e8fcb1f6a1433056f474e47bba021f8112cc54f837c16b953757e173a6c"
 },
 "nbformat": 3,
 "nbformat_minor": 0,
 "worksheets": [
  {
   "cells": [
    {
     "cell_type": "code",
     "collapsed": false,
     "input": [
      "import Quaternions\n",
      "Quaternions.QuaternionArray(Quaternions.vectorvectord([[0,0,0,1.], [1.,0,0,0]]))"
     ],
     "language": "python",
     "metadata": {},
     "outputs": [
      {
       "metadata": {},
       "output_type": "pyout",
       "prompt_number": 1,
       "text": [
        "array([Quaternion(0, 0, 0, 1), Quaternion(1, 0, 0, 0)], dtype=object)"
       ]
      }
     ],
     "prompt_number": 1
    },
    {
     "cell_type": "code",
     "collapsed": false,
     "input": [
      "t = [0., 1.0, 2., 3.]\n",
      "v = Quaternions.QuaternionArray([[0,0,1.], [1.,0,0], [0,1.,0], [0,0,1.]])\n",
      "v"
     ],
     "language": "python",
     "metadata": {},
     "outputs": [
      {
       "metadata": {},
       "output_type": "pyout",
       "prompt_number": 7,
       "text": [
        "array([Quaternion(0, 0, 0, 1), Quaternion(0, 1, 0, 0),\n",
        "       Quaternion(0, 0, 1, 0), Quaternion(0, 0, 0, 1)], dtype=object)"
       ]
      }
     ],
     "prompt_number": 7
    },
    {
     "cell_type": "code",
     "collapsed": false,
     "input": [
      "y = Quaternions.FrameFromZ(v, t)\n",
      "y"
     ],
     "language": "python",
     "metadata": {},
     "outputs": [
      {
       "metadata": {},
       "output_type": "pyout",
       "prompt_number": 8,
       "text": [
        "array([Quaternion(1, 0, 0, 0),\n",
        "       Quaternion(0.695238273413558, 0.129010632046104, 0.695238273413558, 0.129010632046104),\n",
        "       Quaternion(0.528896890850549, -0.528896890850549, 0.469327261991697, 0.469327261991697),\n",
        "       Quaternion(0.614322309005436, 0, 0, 0.789055194937736)], dtype=object)"
       ]
      }
     ],
     "prompt_number": 8
    },
    {
     "cell_type": "code",
     "collapsed": false,
     "input": [
      "Quaternions.sqrtOfRotor(Quaternions.FrameFromZ(v, t))"
     ],
     "language": "python",
     "metadata": {},
     "outputs": [
      {
       "metadata": {},
       "output_type": "pyout",
       "prompt_number": 5,
       "text": [
        "array([Quaternion(1, 0, 0, 0),\n",
        "       Quaternion(0.920662335879327, 0.0700640327177528, 0.377575059997178, 0.0700640327177528),\n",
        "       Quaternion(0.874327424610068, -0.302459282394365, 0.268393309406374, 0.268393309406374),\n",
        "       Quaternion(0.898421479319544, 0, 0, 0.439134199872068)], dtype=object)"
       ]
      }
     ],
     "prompt_number": 5
    },
    {
     "cell_type": "code",
     "collapsed": false,
     "input": [
      "Quaternions.sqrtOfRotor(list(Quaternions.FrameFromZ(v, t)))"
     ],
     "language": "python",
     "metadata": {},
     "outputs": [
      {
       "metadata": {},
       "output_type": "pyout",
       "prompt_number": 6,
       "text": [
        "array([Quaternion(1, 0, 0, 0),\n",
        "       Quaternion(0.920662335879327, 0.0700640327177528, 0.377575059997178, 0.0700640327177528),\n",
        "       Quaternion(0.874327424610068, -0.302459282394365, 0.268393309406374, 0.268393309406374),\n",
        "       Quaternion(0.898421479319544, 0, 0, 0.439134199872068)], dtype=object)"
       ]
      }
     ],
     "prompt_number": 6
    },
    {
     "cell_type": "code",
     "collapsed": false,
     "input": [
      "v*y"
     ],
     "language": "python",
     "metadata": {},
     "outputs": [
      {
       "metadata": {},
       "output_type": "pyout",
       "prompt_number": 9,
       "text": [
        "array([Quaternion(0, 0, 0, 1),\n",
        "       Quaternion(-0.129010632046104, 0.695238273413558, -0.129010632046104, 0.695238273413558),\n",
        "       Quaternion(-0.469327261991697, 0.469327261991697, 0.528896890850549, 0.528896890850549),\n",
        "       Quaternion(-0.789055194937736, 0, 0, 0.614322309005436)], dtype=object)"
       ]
      }
     ],
     "prompt_number": 9
    },
    {
     "cell_type": "code",
     "collapsed": false,
     "input": [
      "v+y"
     ],
     "language": "python",
     "metadata": {},
     "outputs": [
      {
       "metadata": {},
       "output_type": "pyout",
       "prompt_number": 10,
       "text": [
        "array([Quaternion(1, 0, 0, 1),\n",
        "       Quaternion(0.695238273413558, 1.1290106320461, 0.695238273413558, 0.129010632046104),\n",
        "       Quaternion(0.528896890850549, -0.528896890850549, 1.4693272619917, 0.469327261991697),\n",
        "       Quaternion(0.614322309005436, 0, 0, 1.78905519493774)], dtype=object)"
       ]
      }
     ],
     "prompt_number": 10
    },
    {
     "cell_type": "code",
     "collapsed": false,
     "input": [
      "v*y[1]"
     ],
     "language": "python",
     "metadata": {},
     "outputs": [
      {
       "metadata": {},
       "output_type": "pyout",
       "prompt_number": 13,
       "text": [
        "array([ Quaternion(-0.129010632046104, -0.695238273413558, 0.129010632046104, 0.695238273413558),\n",
        "       Quaternion(-0.129010632046104, 0.695238273413558, -0.129010632046104, 0.695238273413558),\n",
        "       Quaternion(-0.695238273413558, 0.129010632046104, 0.695238273413558, -0.129010632046104),\n",
        "       Quaternion(-0.129010632046104, -0.695238273413558, 0.129010632046104, 0.695238273413558)], dtype=object)"
       ]
      }
     ],
     "prompt_number": 13
    },
    {
     "cell_type": "code",
     "collapsed": false,
     "input": [
      "y[1]*v"
     ],
     "language": "python",
     "metadata": {},
     "outputs": [
      {
       "metadata": {},
       "output_type": "pyout",
       "prompt_number": 14,
       "text": [
        "array([ Quaternion(-0.129010632046104, 0.695238273413558, -0.129010632046104, 0.695238273413558),\n",
        "       Quaternion(-0.129010632046104, 0.695238273413558, 0.129010632046104, -0.695238273413558),\n",
        "       Quaternion(-0.695238273413558, -0.129010632046104, 0.695238273413558, 0.129010632046104),\n",
        "       Quaternion(-0.129010632046104, 0.695238273413558, -0.129010632046104, 0.695238273413558)], dtype=object)"
       ]
      }
     ],
     "prompt_number": 14
    },
    {
     "cell_type": "code",
     "collapsed": false,
     "input": [],
     "language": "python",
     "metadata": {},
     "outputs": []
    }
   ],
   "metadata": {}
  }
 ]
}